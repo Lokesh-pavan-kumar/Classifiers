{
 "cells": [
  {
   "cell_type": "code",
   "execution_count": 1,
   "metadata": {},
   "outputs": [],
   "source": [
    "import numpy as np\n",
    "import pandas as pd\n",
    "import tensorflow as tf\n",
    "from tensorflow.keras.layers import Input, Dense, Flatten, Conv1D, AveragePooling1D, Concatenate\n",
    "from tensorflow.keras.models import Model\n",
    "from tensorflow import keras"
   ]
  },
  {
   "cell_type": "code",
   "execution_count": 2,
   "metadata": {},
   "outputs": [],
   "source": [
    "from tensorflow.keras.models import Sequential\n",
    "\n",
    "seq_model = Sequential([\n",
    "    Conv1D(16, 5, activation='relu', input_shape=(32, 1)),\n",
    "    AveragePooling1D(3),\n",
    "    Flatten(),\n",
    "    Dense(20, activation='sigmoid')\n",
    "])"
   ]
  },
  {
   "cell_type": "code",
   "execution_count": 3,
   "metadata": {},
   "outputs": [
    {
     "name": "stdout",
     "output_type": "stream",
     "text": [
      "Model: \"sequential\"\n",
      "_________________________________________________________________\n",
      "Layer (type)                 Output Shape              Param #   \n",
      "=================================================================\n",
      "conv1d (Conv1D)              (None, 28, 16)            96        \n",
      "_________________________________________________________________\n",
      "average_pooling1d (AveragePo (None, 9, 16)             0         \n",
      "_________________________________________________________________\n",
      "flatten (Flatten)            (None, 144)               0         \n",
      "_________________________________________________________________\n",
      "dense (Dense)                (None, 20)                2900      \n",
      "=================================================================\n",
      "Total params: 2,996\n",
      "Trainable params: 2,996\n",
      "Non-trainable params: 0\n",
      "_________________________________________________________________\n"
     ]
    }
   ],
   "source": [
    "seq_model.summary()"
   ]
  },
  {
   "cell_type": "markdown",
   "metadata": {},
   "source": [
    "# Building this same Sequential Model with Functional API\n",
    "\n",
    "* The `Model` class which we use is the same class which Sequential inherits from.\n",
    "* This allows us to build models with different topologies, models with multiple outputs and inputs and much more."
   ]
  },
  {
   "cell_type": "code",
   "execution_count": 4,
   "metadata": {},
   "outputs": [],
   "source": [
    "# Explicit layer to specify the inputs\n",
    "inputs = Input(shape=(32, 1))  # We provide this layer with the shape of a single data example\n",
    "h = Conv1D(16, 5, activation='relu')(inputs)  # We use the layer object `Conv1D` as a function that calls on the inputs\n",
    "h = AveragePooling1D(3)(h)\n",
    "h = Flatten()(h)\n",
    "outputs = Dense(20, activation='sigmoid')(h)\n",
    "\n",
    "# We have now defined the flow of our model.\n",
    "functional_api_model = Model(inputs=inputs, outputs=outputs)\n",
    "# Model training is the same as training a Sequential Model\n",
    "# We will be having much more flexibility in training\n",
    "# which we will see shortly"
   ]
  },
  {
   "cell_type": "code",
   "execution_count": 5,
   "metadata": {},
   "outputs": [
    {
     "name": "stdout",
     "output_type": "stream",
     "text": [
      "Model: \"model\"\n",
      "_________________________________________________________________\n",
      "Layer (type)                 Output Shape              Param #   \n",
      "=================================================================\n",
      "input_1 (InputLayer)         [(None, 32, 1)]           0         \n",
      "_________________________________________________________________\n",
      "conv1d_1 (Conv1D)            (None, 28, 16)            96        \n",
      "_________________________________________________________________\n",
      "average_pooling1d_1 (Average (None, 9, 16)             0         \n",
      "_________________________________________________________________\n",
      "flatten_1 (Flatten)          (None, 144)               0         \n",
      "_________________________________________________________________\n",
      "dense_1 (Dense)              (None, 20)                2900      \n",
      "=================================================================\n",
      "Total params: 2,996\n",
      "Trainable params: 2,996\n",
      "Non-trainable params: 0\n",
      "_________________________________________________________________\n"
     ]
    }
   ],
   "source": [
    "functional_api_model.summary()"
   ]
  },
  {
   "cell_type": "code",
   "execution_count": 6,
   "metadata": {},
   "outputs": [],
   "source": [
    "# Deleting the models(so that we can use these names later on in the notebook)\n",
    "del functional_api_model\n",
    "del seq_model\n",
    "del inputs\n",
    "del outputs\n",
    "del h"
   ]
  },
  {
   "cell_type": "markdown",
   "metadata": {},
   "source": [
    "# Models with multiple inputs and outputs"
   ]
  },
  {
   "cell_type": "code",
   "execution_count": 7,
   "metadata": {},
   "outputs": [],
   "source": [
    "inputs = Input(shape=(32, 1), name='inputs')\n",
    "h = Conv1D(16, 5, activation='relu')(inputs)\n",
    "h = AveragePooling1D(3)(h)\n",
    "h = Flatten()(h)\n",
    "aux_inputs = Input(shape=(12, ), name='aux_inputs')\n",
    "h = Concatenate()([h, aux_inputs])  # h.shape = (None, 156) => 144 + 12(aux_inputs)\n",
    "outputs = Dense(20, activation='sigmoid', name='outputs')(h)\n",
    "aux_outputs = Dense(1, activation='linear', name='aux_outputs')(h)\n",
    "\n",
    "model = Model(inputs=[inputs, aux_inputs], outputs=[outputs, aux_outputs])"
   ]
  },
  {
   "cell_type": "markdown",
   "metadata": {},
   "source": [
    "# Compiling and Fitting the model."
   ]
  },
  {
   "cell_type": "code",
   "execution_count": 8,
   "metadata": {},
   "outputs": [],
   "source": [
    "# model.compile(loss=['binary_crossentropy', 'mse'], loss_weights=[1, 0.4], metrics=['accuracy'])\n",
    "# history = model.fit([X_train, X_aux], [y_train, y_aux], validation_split=0.2, epochs=20)\n",
    "\n",
    "# # Pass a list of loss functions which are of the same order as the outputs we have created.\n",
    "# # We need to combine the losses into a single loss to do gradient descent\n",
    "# # that is the final loss = 1*binary_crossentropy + 0.4*mse\n",
    "\n",
    "# # Another way to compile and train the model is\n",
    "# # But to use this style of compiling and fitting, \n",
    "# # It is mandatory to name our input and output layers\n",
    "# model.compile(\n",
    "#     loss={'outputs': 'binary_crossentropy', 'aux_inputs': 'mse'},\n",
    "#     loss_weights={'outputs': 1, 'aux_outputs': 0.4}, metrics=['accuracy']\n",
    "# )\n",
    "# history = model.fit(\n",
    "#     {'inputs': X_train, 'aux_inputs': X_aux},\n",
    "#     {'outputs': y_train, 'aux_outputs': y_aux},\n",
    "#     validation_split=0.2, epochs=20\n",
    "# )\n",
    "\n",
    "# # This way of compiling and training is much verbose and easier to understand"
   ]
  },
  {
   "cell_type": "markdown",
   "metadata": {},
   "source": [
    "# The UCI acute inflammation dataset\n",
    "\n",
    "* This dataset contains multiple outpts.\n",
    "#### Load the acute inflammations dataset\n",
    "\n",
    "The `acute inflammations` was created by a medical expert as a data set to test the expert system, which will perform the presumptive diagnosis of two diseases of the urinary system. You can find out more about the dataset [here](https://archive.ics.uci.edu/ml/datasets/Acute+Inflammations).\n",
    "\n",
    "Attribute information:\n",
    "\n",
    "Inputs:\n",
    "- Temperature of patient : 35C-42C\n",
    "- Occurrence of nausea : yes/no\n",
    "- Lumbar pain : yes/no\n",
    "- Urine pushing (continuous need for urination) : yes/no\n",
    "- Micturition pains : yes/no\n",
    "- Burning of urethra, itch, swelling of urethra outlet : yes/no\n",
    "\n",
    "Outputs:\n",
    "- Decision 1: Inflammation of urinary bladder : yes/no - 1/0\n",
    "- Decision 2: Nephritis of renal pelvis origin : yes/no - 1/0"
   ]
  },
  {
   "cell_type": "code",
   "execution_count": 9,
   "metadata": {},
   "outputs": [],
   "source": [
    "# Load the dataset\n",
    "\n",
    "from sklearn.model_selection import train_test_split\n",
    "\n",
    "pd_df = pd.read_csv('diagnosis.csv')\n",
    "dataset = pd_df.values"
   ]
  },
  {
   "cell_type": "code",
   "execution_count": 10,
   "metadata": {},
   "outputs": [
    {
     "data": {
      "text/html": [
       "<div>\n",
       "<style scoped>\n",
       "    .dataframe tbody tr th:only-of-type {\n",
       "        vertical-align: middle;\n",
       "    }\n",
       "\n",
       "    .dataframe tbody tr th {\n",
       "        vertical-align: top;\n",
       "    }\n",
       "\n",
       "    .dataframe thead th {\n",
       "        text-align: right;\n",
       "    }\n",
       "</style>\n",
       "<table border=\"1\" class=\"dataframe\">\n",
       "  <thead>\n",
       "    <tr style=\"text-align: right;\">\n",
       "      <th></th>\n",
       "      <th>Temperature</th>\n",
       "      <th>Nausea-Occurrence</th>\n",
       "      <th>Lumbar Pain</th>\n",
       "      <th>Urine Pushing</th>\n",
       "      <th>Micturition pains</th>\n",
       "      <th>Urethra Burning</th>\n",
       "      <th>Decision1-UrinaryBladderInflammation</th>\n",
       "      <th>Decision2-NephritisRenalPelvis</th>\n",
       "    </tr>\n",
       "  </thead>\n",
       "  <tbody>\n",
       "    <tr>\n",
       "      <th>0</th>\n",
       "      <td>35.5</td>\n",
       "      <td>0</td>\n",
       "      <td>1</td>\n",
       "      <td>0</td>\n",
       "      <td>0</td>\n",
       "      <td>0</td>\n",
       "      <td>0</td>\n",
       "      <td>0</td>\n",
       "    </tr>\n",
       "    <tr>\n",
       "      <th>1</th>\n",
       "      <td>35.9</td>\n",
       "      <td>0</td>\n",
       "      <td>0</td>\n",
       "      <td>1</td>\n",
       "      <td>1</td>\n",
       "      <td>1</td>\n",
       "      <td>1</td>\n",
       "      <td>0</td>\n",
       "    </tr>\n",
       "    <tr>\n",
       "      <th>2</th>\n",
       "      <td>35.9</td>\n",
       "      <td>0</td>\n",
       "      <td>1</td>\n",
       "      <td>0</td>\n",
       "      <td>0</td>\n",
       "      <td>0</td>\n",
       "      <td>0</td>\n",
       "      <td>0</td>\n",
       "    </tr>\n",
       "    <tr>\n",
       "      <th>3</th>\n",
       "      <td>36.0</td>\n",
       "      <td>0</td>\n",
       "      <td>0</td>\n",
       "      <td>1</td>\n",
       "      <td>1</td>\n",
       "      <td>1</td>\n",
       "      <td>1</td>\n",
       "      <td>0</td>\n",
       "    </tr>\n",
       "    <tr>\n",
       "      <th>4</th>\n",
       "      <td>36.0</td>\n",
       "      <td>0</td>\n",
       "      <td>1</td>\n",
       "      <td>0</td>\n",
       "      <td>0</td>\n",
       "      <td>0</td>\n",
       "      <td>0</td>\n",
       "      <td>0</td>\n",
       "    </tr>\n",
       "  </tbody>\n",
       "</table>\n",
       "</div>"
      ],
      "text/plain": [
       "   Temperature  Nausea-Occurrence  Lumbar Pain  Urine Pushing  \\\n",
       "0         35.5                  0            1              0   \n",
       "1         35.9                  0            0              1   \n",
       "2         35.9                  0            1              0   \n",
       "3         36.0                  0            0              1   \n",
       "4         36.0                  0            1              0   \n",
       "\n",
       "   Micturition pains  Urethra Burning  Decision1-UrinaryBladderInflammation  \\\n",
       "0                  0                0                                     0   \n",
       "1                  1                1                                     1   \n",
       "2                  0                0                                     0   \n",
       "3                  1                1                                     1   \n",
       "4                  0                0                                     0   \n",
       "\n",
       "   Decision2-NephritisRenalPelvis  \n",
       "0                               0  \n",
       "1                               0  \n",
       "2                               0  \n",
       "3                               0  \n",
       "4                               0  "
      ]
     },
     "execution_count": 10,
     "metadata": {},
     "output_type": "execute_result"
    }
   ],
   "source": [
    "pd_df.columns = [\n",
    "    'Temperature', 'Nausea-Occurrence', 'Lumbar Pain', 'Urine Pushing', 'Micturition pains', 'Urethra Burning',\n",
    "    'Decision1-UrinaryBladderInflammation',\n",
    "    'Decision2-NephritisRenalPelvis'\n",
    "]\n",
    "pd_df.head()"
   ]
  },
  {
   "cell_type": "code",
   "execution_count": 11,
   "metadata": {},
   "outputs": [],
   "source": [
    "from sklearn.model_selection import train_test_split\n",
    "\n",
    "X_train, X_test, Y_train, Y_test = train_test_split(dataset[:,:6], dataset[:,6:], test_size=0.33)"
   ]
  },
  {
   "cell_type": "code",
   "execution_count": 12,
   "metadata": {},
   "outputs": [],
   "source": [
    "temp_train, nocc_train, lumbp_train, up_train, mict_train, bis_train = np.transpose(X_train)\n",
    "temp_test, nocc_test, lumbp_test, up_test, mict_test, bis_test = np.transpose(X_test)\n",
    "\n",
    "inflam_train, nephr_train = Y_train[:, 0], Y_train[:, 1]\n",
    "inflam_test, nephr_test = Y_test[:, 0], Y_test[:, 1]"
   ]
  },
  {
   "cell_type": "code",
   "execution_count": 13,
   "metadata": {},
   "outputs": [],
   "source": [
    "shape_inputs = (1, )\n",
    "temperature = Input(shape=shape_inputs, name='temp')\n",
    "nausea_occurence = Input(shape=shape_inputs, name='nocc')\n",
    "lumbar_pain = Input(shape=shape_inputs, name='lumbp')\n",
    "urine_pushing = Input(shape=shape_inputs, name='up')\n",
    "micturition_pains = Input(shape=shape_inputs, name='mict')\n",
    "bis = Input(shape=shape_inputs, name='bis')"
   ]
  },
  {
   "cell_type": "code",
   "execution_count": 14,
   "metadata": {},
   "outputs": [],
   "source": [
    "list_inputs = [temperature, nausea_occurence, lumbar_pain, urine_pushing, \n",
    "               micturition_pains, bis]"
   ]
  },
  {
   "cell_type": "code",
   "execution_count": 15,
   "metadata": {},
   "outputs": [],
   "source": [
    "x = keras.layers.concatenate(list_inputs)"
   ]
  },
  {
   "cell_type": "code",
   "execution_count": 16,
   "metadata": {},
   "outputs": [],
   "source": [
    "# Use a logistic regression classifier for disease prediction\n",
    "inflammation_pred = Dense(1, activation='sigmoid', name='inflam')(x)\n",
    "nephritis_pred = Dense(1, activation='sigmoid', name='nephr')(x)"
   ]
  },
  {
   "cell_type": "code",
   "execution_count": 17,
   "metadata": {},
   "outputs": [],
   "source": [
    "list_outputs = [inflammation_pred, nephritis_pred]"
   ]
  },
  {
   "cell_type": "code",
   "execution_count": 18,
   "metadata": {},
   "outputs": [],
   "source": [
    "# Create the model object\n",
    "\n",
    "model = tf.keras.Model(inputs=list_inputs, outputs=list_outputs)"
   ]
  },
  {
   "cell_type": "code",
   "execution_count": 19,
   "metadata": {},
   "outputs": [
    {
     "data": {
      "image/png": "[encoded data removed]",
      "text/plain": [
       "<IPython.core.display.Image object>"
      ]
     },
     "execution_count": 19,
     "metadata": {},
     "output_type": "execute_result"
    }
   ],
   "source": [
    "# Display the multiple input/output model\n",
    "\n",
    "tf.keras.utils.plot_model(model, 'mulit_input_output_model.png', show_shapes=True)"
   ]
  }
 ],
 "metadata": {
  "kernelspec": {
   "display_name": "Python 3",
   "language": "python",
   "name": "python3"
  },
  "language_info": {
   "codemirror_mode": {
    "name": "ipython",
    "version": 3
   },
   "file_extension": ".py",
   "mimetype": "text/x-python",
   "name": "python",
   "nbconvert_exporter": "python",
   "pygments_lexer": "ipython3",
   "version": "3.8.2"
  }
 },
 "nbformat": 4,
 "nbformat_minor": 4
}
