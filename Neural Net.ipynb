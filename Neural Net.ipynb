{
 "cells": [
  {
   "cell_type": "code",
   "execution_count": 1,
   "metadata": {},
   "outputs": [],
   "source": [
    "import numpy as np\n",
    "import pandas as pd\n",
    "from keras.utils import to_categorical\n",
    "from tqdm.auto import tqdm\n",
    "import matplotlib.pyplot as plt\n",
    "\n",
    "plt.style.use('ggplot')"
   ]
  },
  {
   "cell_type": "code",
   "execution_count": 2,
   "metadata": {},
   "outputs": [],
   "source": [
    "train_df = pd.read_csv('train.csv', header=None)\n",
    "test_df = pd.read_csv('test.csv', header=None)"
   ]
  },
  {
   "cell_type": "code",
   "execution_count": 3,
   "metadata": {},
   "outputs": [],
   "source": [
    "columns = [f'Pixel-{index}' for index in range(1, 193)]\n",
    "columns.append('Class-Label')\n",
    "\n",
    "train_df.columns = columns\n",
    "test_df.columns = columns"
   ]
  },
  {
   "cell_type": "code",
   "execution_count": 4,
   "metadata": {},
   "outputs": [
    {
     "data": {
      "text/html": [
       "<div>\n",
       "<style scoped>\n",
       "    .dataframe tbody tr th:only-of-type {\n",
       "        vertical-align: middle;\n",
       "    }\n",
       "\n",
       "    .dataframe tbody tr th {\n",
       "        vertical-align: top;\n",
       "    }\n",
       "\n",
       "    .dataframe thead th {\n",
       "        text-align: right;\n",
       "    }\n",
       "</style>\n",
       "<table border=\"1\" class=\"dataframe\">\n",
       "  <thead>\n",
       "    <tr style=\"text-align: right;\">\n",
       "      <th></th>\n",
       "      <th>Pixel-1</th>\n",
       "      <th>Pixel-2</th>\n",
       "      <th>Pixel-3</th>\n",
       "      <th>Pixel-4</th>\n",
       "      <th>Pixel-5</th>\n",
       "      <th>Pixel-6</th>\n",
       "      <th>Pixel-7</th>\n",
       "      <th>Pixel-8</th>\n",
       "      <th>Pixel-9</th>\n",
       "      <th>Pixel-10</th>\n",
       "      <th>...</th>\n",
       "      <th>Pixel-184</th>\n",
       "      <th>Pixel-185</th>\n",
       "      <th>Pixel-186</th>\n",
       "      <th>Pixel-187</th>\n",
       "      <th>Pixel-188</th>\n",
       "      <th>Pixel-189</th>\n",
       "      <th>Pixel-190</th>\n",
       "      <th>Pixel-191</th>\n",
       "      <th>Pixel-192</th>\n",
       "      <th>Class-Label</th>\n",
       "    </tr>\n",
       "  </thead>\n",
       "  <tbody>\n",
       "    <tr>\n",
       "      <th>0</th>\n",
       "      <td>0</td>\n",
       "      <td>0</td>\n",
       "      <td>1</td>\n",
       "      <td>1</td>\n",
       "      <td>0</td>\n",
       "      <td>0</td>\n",
       "      <td>0</td>\n",
       "      <td>0</td>\n",
       "      <td>0</td>\n",
       "      <td>0</td>\n",
       "      <td>...</td>\n",
       "      <td>0</td>\n",
       "      <td>2</td>\n",
       "      <td>2</td>\n",
       "      <td>0</td>\n",
       "      <td>0</td>\n",
       "      <td>0</td>\n",
       "      <td>0</td>\n",
       "      <td>0</td>\n",
       "      <td>0</td>\n",
       "      <td>6</td>\n",
       "    </tr>\n",
       "    <tr>\n",
       "      <th>1</th>\n",
       "      <td>0</td>\n",
       "      <td>0</td>\n",
       "      <td>0</td>\n",
       "      <td>0</td>\n",
       "      <td>0</td>\n",
       "      <td>0</td>\n",
       "      <td>0</td>\n",
       "      <td>0</td>\n",
       "      <td>0</td>\n",
       "      <td>0</td>\n",
       "      <td>...</td>\n",
       "      <td>4</td>\n",
       "      <td>3</td>\n",
       "      <td>0</td>\n",
       "      <td>0</td>\n",
       "      <td>0</td>\n",
       "      <td>0</td>\n",
       "      <td>0</td>\n",
       "      <td>0</td>\n",
       "      <td>0</td>\n",
       "      <td>4</td>\n",
       "    </tr>\n",
       "    <tr>\n",
       "      <th>2</th>\n",
       "      <td>0</td>\n",
       "      <td>0</td>\n",
       "      <td>0</td>\n",
       "      <td>0</td>\n",
       "      <td>0</td>\n",
       "      <td>2</td>\n",
       "      <td>2</td>\n",
       "      <td>0</td>\n",
       "      <td>0</td>\n",
       "      <td>0</td>\n",
       "      <td>...</td>\n",
       "      <td>0</td>\n",
       "      <td>4</td>\n",
       "      <td>2</td>\n",
       "      <td>0</td>\n",
       "      <td>0</td>\n",
       "      <td>0</td>\n",
       "      <td>0</td>\n",
       "      <td>0</td>\n",
       "      <td>0</td>\n",
       "      <td>9</td>\n",
       "    </tr>\n",
       "    <tr>\n",
       "      <th>3</th>\n",
       "      <td>0</td>\n",
       "      <td>0</td>\n",
       "      <td>0</td>\n",
       "      <td>0</td>\n",
       "      <td>2</td>\n",
       "      <td>4</td>\n",
       "      <td>2</td>\n",
       "      <td>0</td>\n",
       "      <td>0</td>\n",
       "      <td>0</td>\n",
       "      <td>...</td>\n",
       "      <td>0</td>\n",
       "      <td>0</td>\n",
       "      <td>0</td>\n",
       "      <td>0</td>\n",
       "      <td>2</td>\n",
       "      <td>0</td>\n",
       "      <td>0</td>\n",
       "      <td>0</td>\n",
       "      <td>0</td>\n",
       "      <td>8</td>\n",
       "    </tr>\n",
       "    <tr>\n",
       "      <th>4</th>\n",
       "      <td>0</td>\n",
       "      <td>0</td>\n",
       "      <td>0</td>\n",
       "      <td>1</td>\n",
       "      <td>4</td>\n",
       "      <td>4</td>\n",
       "      <td>1</td>\n",
       "      <td>0</td>\n",
       "      <td>0</td>\n",
       "      <td>0</td>\n",
       "      <td>...</td>\n",
       "      <td>2</td>\n",
       "      <td>2</td>\n",
       "      <td>2</td>\n",
       "      <td>0</td>\n",
       "      <td>0</td>\n",
       "      <td>0</td>\n",
       "      <td>0</td>\n",
       "      <td>0</td>\n",
       "      <td>0</td>\n",
       "      <td>8</td>\n",
       "    </tr>\n",
       "  </tbody>\n",
       "</table>\n",
       "<p>5 rows × 193 columns</p>\n",
       "</div>"
      ],
      "text/plain": [
       "   Pixel-1  Pixel-2  Pixel-3  Pixel-4  Pixel-5  Pixel-6  Pixel-7  Pixel-8  \\\n",
       "0        0        0        1        1        0        0        0        0   \n",
       "1        0        0        0        0        0        0        0        0   \n",
       "2        0        0        0        0        0        2        2        0   \n",
       "3        0        0        0        0        2        4        2        0   \n",
       "4        0        0        0        1        4        4        1        0   \n",
       "\n",
       "   Pixel-9  Pixel-10  ...  Pixel-184  Pixel-185  Pixel-186  Pixel-187  \\\n",
       "0        0         0  ...          0          2          2          0   \n",
       "1        0         0  ...          4          3          0          0   \n",
       "2        0         0  ...          0          4          2          0   \n",
       "3        0         0  ...          0          0          0          0   \n",
       "4        0         0  ...          2          2          2          0   \n",
       "\n",
       "   Pixel-188  Pixel-189  Pixel-190  Pixel-191  Pixel-192  Class-Label  \n",
       "0          0          0          0          0          0            6  \n",
       "1          0          0          0          0          0            4  \n",
       "2          0          0          0          0          0            9  \n",
       "3          2          0          0          0          0            8  \n",
       "4          0          0          0          0          0            8  \n",
       "\n",
       "[5 rows x 193 columns]"
      ]
     },
     "execution_count": 4,
     "metadata": {},
     "output_type": "execute_result"
    }
   ],
   "source": [
    "train_df.head()"
   ]
  },
  {
   "cell_type": "code",
   "execution_count": 5,
   "metadata": {},
   "outputs": [
    {
     "data": {
      "text/html": [
       "<div>\n",
       "<style scoped>\n",
       "    .dataframe tbody tr th:only-of-type {\n",
       "        vertical-align: middle;\n",
       "    }\n",
       "\n",
       "    .dataframe tbody tr th {\n",
       "        vertical-align: top;\n",
       "    }\n",
       "\n",
       "    .dataframe thead th {\n",
       "        text-align: right;\n",
       "    }\n",
       "</style>\n",
       "<table border=\"1\" class=\"dataframe\">\n",
       "  <thead>\n",
       "    <tr style=\"text-align: right;\">\n",
       "      <th></th>\n",
       "      <th>Pixel-1</th>\n",
       "      <th>Pixel-2</th>\n",
       "      <th>Pixel-3</th>\n",
       "      <th>Pixel-4</th>\n",
       "      <th>Pixel-5</th>\n",
       "      <th>Pixel-6</th>\n",
       "      <th>Pixel-7</th>\n",
       "      <th>Pixel-8</th>\n",
       "      <th>Pixel-9</th>\n",
       "      <th>Pixel-10</th>\n",
       "      <th>...</th>\n",
       "      <th>Pixel-184</th>\n",
       "      <th>Pixel-185</th>\n",
       "      <th>Pixel-186</th>\n",
       "      <th>Pixel-187</th>\n",
       "      <th>Pixel-188</th>\n",
       "      <th>Pixel-189</th>\n",
       "      <th>Pixel-190</th>\n",
       "      <th>Pixel-191</th>\n",
       "      <th>Pixel-192</th>\n",
       "      <th>Class-Label</th>\n",
       "    </tr>\n",
       "  </thead>\n",
       "  <tbody>\n",
       "    <tr>\n",
       "      <th>0</th>\n",
       "      <td>0</td>\n",
       "      <td>0</td>\n",
       "      <td>0</td>\n",
       "      <td>0</td>\n",
       "      <td>0</td>\n",
       "      <td>2</td>\n",
       "      <td>2</td>\n",
       "      <td>0</td>\n",
       "      <td>0</td>\n",
       "      <td>0</td>\n",
       "      <td>...</td>\n",
       "      <td>0</td>\n",
       "      <td>0</td>\n",
       "      <td>0</td>\n",
       "      <td>4</td>\n",
       "      <td>0</td>\n",
       "      <td>0</td>\n",
       "      <td>0</td>\n",
       "      <td>0</td>\n",
       "      <td>0</td>\n",
       "      <td>9</td>\n",
       "    </tr>\n",
       "    <tr>\n",
       "      <th>1</th>\n",
       "      <td>0</td>\n",
       "      <td>0</td>\n",
       "      <td>1</td>\n",
       "      <td>4</td>\n",
       "      <td>4</td>\n",
       "      <td>4</td>\n",
       "      <td>4</td>\n",
       "      <td>0</td>\n",
       "      <td>0</td>\n",
       "      <td>0</td>\n",
       "      <td>...</td>\n",
       "      <td>2</td>\n",
       "      <td>1</td>\n",
       "      <td>0</td>\n",
       "      <td>0</td>\n",
       "      <td>0</td>\n",
       "      <td>0</td>\n",
       "      <td>0</td>\n",
       "      <td>0</td>\n",
       "      <td>0</td>\n",
       "      <td>2</td>\n",
       "    </tr>\n",
       "    <tr>\n",
       "      <th>2</th>\n",
       "      <td>0</td>\n",
       "      <td>0</td>\n",
       "      <td>0</td>\n",
       "      <td>0</td>\n",
       "      <td>0</td>\n",
       "      <td>1</td>\n",
       "      <td>2</td>\n",
       "      <td>0</td>\n",
       "      <td>0</td>\n",
       "      <td>0</td>\n",
       "      <td>...</td>\n",
       "      <td>0</td>\n",
       "      <td>0</td>\n",
       "      <td>4</td>\n",
       "      <td>0</td>\n",
       "      <td>0</td>\n",
       "      <td>0</td>\n",
       "      <td>0</td>\n",
       "      <td>0</td>\n",
       "      <td>0</td>\n",
       "      <td>9</td>\n",
       "    </tr>\n",
       "    <tr>\n",
       "      <th>3</th>\n",
       "      <td>0</td>\n",
       "      <td>0</td>\n",
       "      <td>0</td>\n",
       "      <td>0</td>\n",
       "      <td>4</td>\n",
       "      <td>4</td>\n",
       "      <td>4</td>\n",
       "      <td>4</td>\n",
       "      <td>0</td>\n",
       "      <td>0</td>\n",
       "      <td>...</td>\n",
       "      <td>0</td>\n",
       "      <td>0</td>\n",
       "      <td>0</td>\n",
       "      <td>4</td>\n",
       "      <td>0</td>\n",
       "      <td>0</td>\n",
       "      <td>0</td>\n",
       "      <td>0</td>\n",
       "      <td>0</td>\n",
       "      <td>7</td>\n",
       "    </tr>\n",
       "    <tr>\n",
       "      <th>4</th>\n",
       "      <td>0</td>\n",
       "      <td>0</td>\n",
       "      <td>0</td>\n",
       "      <td>3</td>\n",
       "      <td>2</td>\n",
       "      <td>0</td>\n",
       "      <td>0</td>\n",
       "      <td>3</td>\n",
       "      <td>2</td>\n",
       "      <td>0</td>\n",
       "      <td>...</td>\n",
       "      <td>0</td>\n",
       "      <td>4</td>\n",
       "      <td>0</td>\n",
       "      <td>0</td>\n",
       "      <td>0</td>\n",
       "      <td>0</td>\n",
       "      <td>0</td>\n",
       "      <td>0</td>\n",
       "      <td>0</td>\n",
       "      <td>4</td>\n",
       "    </tr>\n",
       "  </tbody>\n",
       "</table>\n",
       "<p>5 rows × 193 columns</p>\n",
       "</div>"
      ],
      "text/plain": [
       "   Pixel-1  Pixel-2  Pixel-3  Pixel-4  Pixel-5  Pixel-6  Pixel-7  Pixel-8  \\\n",
       "0        0        0        0        0        0        2        2        0   \n",
       "1        0        0        1        4        4        4        4        0   \n",
       "2        0        0        0        0        0        1        2        0   \n",
       "3        0        0        0        0        4        4        4        4   \n",
       "4        0        0        0        3        2        0        0        3   \n",
       "\n",
       "   Pixel-9  Pixel-10  ...  Pixel-184  Pixel-185  Pixel-186  Pixel-187  \\\n",
       "0        0         0  ...          0          0          0          4   \n",
       "1        0         0  ...          2          1          0          0   \n",
       "2        0         0  ...          0          0          4          0   \n",
       "3        0         0  ...          0          0          0          4   \n",
       "4        2         0  ...          0          4          0          0   \n",
       "\n",
       "   Pixel-188  Pixel-189  Pixel-190  Pixel-191  Pixel-192  Class-Label  \n",
       "0          0          0          0          0          0            9  \n",
       "1          0          0          0          0          0            2  \n",
       "2          0          0          0          0          0            9  \n",
       "3          0          0          0          0          0            7  \n",
       "4          0          0          0          0          0            4  \n",
       "\n",
       "[5 rows x 193 columns]"
      ]
     },
     "execution_count": 5,
     "metadata": {},
     "output_type": "execute_result"
    }
   ],
   "source": [
    "test_df.head()"
   ]
  },
  {
   "cell_type": "code",
   "execution_count": 4,
   "metadata": {},
   "outputs": [
    {
     "name": "stdout",
     "output_type": "stream",
     "text": [
      "Shape of the train data : (6669, 192)\n",
      "Shape of train labels : (6669,)\n",
      "Shape of the test data : (3332, 192)\n",
      "Shape of test labels : (3332,)\n"
     ]
    }
   ],
   "source": [
    "X_train, y_train = train_df.iloc[:, :-1].values, train_df.iloc[:, -1].values\n",
    "X_test, y_test = test_df.iloc[:, :-1].values, test_df.iloc[:, -1].values\n",
    "\n",
    "print(f'Shape of the train data : {X_train.shape}\\nShape of train labels : {y_train.shape}')\n",
    "print(f'Shape of the test data : {X_test.shape}\\nShape of test labels : {y_test.shape}')"
   ]
  },
  {
   "cell_type": "markdown",
   "metadata": {},
   "source": [
    "# Neural Network\n",
    "\n",
    "## Even though neural nets are theoretically complicated to completely understand, the basic implementation of them is really complicated matrix multiplications\n",
    "\n",
    "## Backprop will be hardcoded here since the activation function used is only sigmoid, if not we need to write an auto-differentiation program to compute the partial differentials\n",
    "\n",
    "#### More about automatic-differentiation at \n",
    "\n",
    "[AutoDifferentiation - Medium](https://towardsdatascience.com/automatic-differentiation-explained-b4ba8e60c2ad)\n",
    "<br/>\n",
    "[AutoDifferentiation - Wikipedia](https://en.wikipedia.org/wiki/Automatic_differentiation)\n",
    "\n",
    "### One thing to note is that popular deeplearning frameworks such as torch, tensorflow are basically autodifferentiation frameworks"
   ]
  },
  {
   "cell_type": "markdown",
   "metadata": {},
   "source": [
    "![Neural Network](NeuralNetwork.png)"
   ]
  },
  {
   "cell_type": "code",
   "execution_count": 7,
   "metadata": {},
   "outputs": [],
   "source": [
    "def sigmoid(z: np.ndarray):\n",
    "    return 1 / (1 + np.exp(-z))\n",
    "\n",
    "\n",
    "def normalize(z: np.ndarray):\n",
    "    return (z - z.mean(axis=0)) / z.std(axis=0)\n",
    "\n",
    "\n",
    "class NeuralNetwork:\n",
    "    def __init__(self, sizes: list):\n",
    "        if len(sizes) > 3:\n",
    "            print('Cannot initialize a Neural Network with more than 2 layers or more than 1 Hidden layer')\n",
    "        self.X = None  # Feature vectors [shape = (m, n) => (n, m)]\n",
    "        self.y = None  # Class labels [shape = (m, 1) => (m, k)]\n",
    "        # Parameters b/w layer-0 and layer-1\n",
    "        self.W1 = None  # Weights b/w layer-0 and layer-1\n",
    "        self.b1 = None  # Bias b/w layer-0 and layer-1\n",
    "        # Parameters b/w layer-1 and layer-2\n",
    "        self.W2 = None  # Weights b/w layer-1 and layer-2\n",
    "        self.b2 = None  # Bias b/w layer-1 and layer-2\n",
    "        self.lr = None  # Learning rate\n",
    "        self.m, self.n = None, None  # Shape of the data\n",
    "        self.epochs = None  # Number of epochs\n",
    "        self.sizes = sizes  # The architecture of the network\n",
    "        print(f'Initialised 2 Layer Neural Network with {sizes} neurons in each layer')\n",
    "        print('Note: When passing the data please pass as (m, n)\\nWhere,\\nm=>number of examples\\nn=>feature dimensions')\n",
    "\n",
    "    def initialize_network(self, X: np.ndarray, y: np.ndarray, lr: float, epochs: int):\n",
    "        (self.m, self.n) = X.shape\n",
    "        self.X = X\n",
    "        assert self.X.shape == (self.m, self.n) # Number of exampless, feature_dims\n",
    "        assert y.shape == (self.m,) or y.shape == (self.m, 1) or y.shape == (1, self.m)\n",
    "        num_classes = len(np.unique(y))\n",
    "        self.y = to_categorical(y).T  # Shape => (num_classes, m)\n",
    "\n",
    "        assert self.y.shape == (num_classes, self.m)\n",
    "\n",
    "        n_x, n_h, n_y = self.sizes\n",
    "        assert n_y == num_classes  # The num_units in the final layer should equal the num_classes\n",
    "\n",
    "        # Parameters b/w layer-0 and layer-1\n",
    "        self.W1 = np.random.randn(n_h, n_x) * 0.01\n",
    "        self.b1 = np.zeros((n_h, 1))\n",
    "        # Parameters b/w layer-1 and layer-2\n",
    "        self.W2 = np.random.randn(n_y, n_h) * 0.01\n",
    "        self.b2 = np.zeros((n_y, 1))\n",
    "        # Other hyper-parameters\n",
    "        self.lr = lr\n",
    "        self.epochs = epochs\n",
    "\n",
    "        print(f'Received data of shape : {self.X.shape}, Labels of {num_classes} classes of shape : {self.y.shape}')\n",
    "        print(\n",
    "            f'Initialized Parameters with the shapes:\\nW1 shape : {self.W1.shape}\\nb1 shape : {self.b1.shape}\\n'\n",
    "            f'W2 shape : {self.W2.shape}\\nb2 shape : {self.b2.shape}\\n'\n",
    "        )\n",
    "\n",
    "    def forward_propagate(self, X_batch: np.ndarray):\n",
    "        batch_size = X_batch.shape[-1]\n",
    "        Z1 = np.dot(self.W1, X_batch) + self.b1  # Shape => (n_h, batch_size)\n",
    "        A1 = sigmoid(Z1)  # Same shape as Z1\n",
    "        Z2 = np.dot(self.W2, A1) + self.b2  # Shape => (n_y, batch_size)\n",
    "        A2 = sigmoid(Z2)  # Same shape as A2\n",
    "\n",
    "        n_x, n_h, n_y = self.sizes\n",
    "        assert Z1.shape == (n_h, batch_size) and A1.shape == Z1.shape\n",
    "        assert Z2.shape == (n_y, batch_size) and A2.shape == Z2.shape\n",
    "\n",
    "        cache = {\n",
    "            'Z1': Z1,\n",
    "            'A1': A1,\n",
    "            'Z2': Z2,\n",
    "            'A2': A2\n",
    "        }\n",
    "        return A2, cache\n",
    "\n",
    "    def mse_loss(self, predictions: np.ndarray, y_batch: np.ndarray):\n",
    "        batch_size = y_batch.shape[-1]  # Calculating the batch size\n",
    "        assert predictions.shape == y_batch.shape\n",
    "        assert predictions.shape[-1] == batch_size\n",
    "        loss = np.square(predictions - y_batch)  # Squared Error\n",
    "        loss = np.sum(loss) / batch_size  # Mean of the Squared Error\n",
    "        return loss\n",
    "\n",
    "    def back_propagate(self, cache: dict, X_batch: np.ndarray, y_batch: np.ndarray):\n",
    "        A1 = cache['A1']\n",
    "        A2 = cache['A2']\n",
    "        \n",
    "        batch_size = X_batch.shape[-1]\n",
    "        \n",
    "        dZ2 = A2 - y_batch\n",
    "        dW2 = (1 / batch_size) * np.dot(dZ2, A1.T)\n",
    "        db2 = (1 / batch_size) * np.sum(dZ2, axis=1, keepdims=True)\n",
    "        dZ1 = np.multiply(np.dot(self.W2.T, dZ2), A1 * (1 - A1))\n",
    "        dW1 = (1 / batch_size) * np.dot(dZ1, X_batch.T)\n",
    "        db1 = (1 / batch_size) * np.sum(dZ1, axis=1, keepdims=True)\n",
    "        \n",
    "        # dA2 = A2 - y_batch\n",
    "        # dZ2 = dA2 * A2 * (1 - A2)\n",
    "        # dW2 = (1 / batch_size) * np.dot(dZ2, A1.T)\n",
    "        # db2 = (1 / batch_size) * np.sum(dZ2, axis=1, keepdims=True)\n",
    "        \n",
    "        # dA1 = np.dot(self.W2.T, dZ2)\n",
    "        # dZ1 = dA1 * A1 * (1 - A1)\n",
    "        # dW1 = (1 / batch_size) * np.dot(dZ1, X_batch.T)\n",
    "        # db1 = (1 / batch_size) * np.sum(dZ1, axis=1, keepdims=True)\n",
    "        \n",
    "        grads = {\"dW1\": dW1,\n",
    "                 \"db1\": db1,\n",
    "                 \"dW2\": dW2,\n",
    "                 \"db2\": db2}\n",
    "        return grads\n",
    "\n",
    "    def update_parameters(self, grads):\n",
    "        dW1 = grads['dW1']\n",
    "        db1 = grads['db1']\n",
    "        dW2 = grads['dW2']\n",
    "        db2 = grads['db2']\n",
    "        \n",
    "        self.W1 = self.W1 - self.lr * dW1\n",
    "        self.b1 = self.b1 - self.lr * db1\n",
    "        self.W2 = self.W2 - self.lr * dW2\n",
    "        self.b2 = self.b2 - self.lr * db2\n",
    "\n",
    "    def get_accuracy(self, predictions: np.ndarray, y_batch):\n",
    "        assert predictions.shape == y_batch.shape\n",
    "        \n",
    "        flat_predictions = np.argmax(predictions, axis=0)\n",
    "        flat_labels = np.argmax(y_batch, axis=0)\n",
    "        \n",
    "        return np.mean(flat_labels == flat_predictions)\n",
    "\n",
    "    def fit(self, X: np.ndarray, y: np.ndarray, lr: float, epochs: int, verbose: bool, batch_size: int = 32):\n",
    "        self.initialize_network(X, y, lr, epochs)\n",
    "        num_batches = int(np.ceil(self.m / batch_size))\n",
    "        print(f'Batch Size : {batch_size}, data is divided into {num_batches} batches')\n",
    "        loss_hist = []\n",
    "        acc_hist = []\n",
    "        for num_epoch in tqdm(range(self.epochs)):\n",
    "            for n in range(num_batches):\n",
    "                X_batch = self.X[n * batch_size: n * batch_size + batch_size].T\n",
    "                y_batch = self.y[:, n * batch_size: n * batch_size + batch_size]\n",
    "\n",
    "                predictions, cache = self.forward_propagate(X_batch)\n",
    "                grads = self.back_propagate(cache, X_batch, y_batch)\n",
    "                self.update_parameters(grads)\n",
    "            predictions, cache = self.forward_propagate(self.X.T)\n",
    "            loss = self.mse_loss(predictions, self.y)\n",
    "            accuracy = self.get_accuracy(predictions, self.y)\n",
    "            loss_hist.append(loss)\n",
    "            acc_hist.append(accuracy)\n",
    "            if verbose:\n",
    "                print(\n",
    "                    f'Epoch {(num_epoch + 1):03}\\tLoss : {loss:.3f}\\tAccuracy : {accuracy:.2f}')\n",
    "        return dict(loss=loss_hist, acc=acc_hist)\n",
    "    \n",
    "    def predict(self, X_sample: np.ndarray):\n",
    "        predictions, _ = self.forward_propagate(X_sample.T)\n",
    "        return np.argmax(predictions, axis=0)\n",
    "\n",
    "    def evaluate(self, X_sample: np.ndarray, y_sample: np.ndarray):\n",
    "        predictions, _ = self.forward_propagate(X_sample.T)\n",
    "\n",
    "        if y_sample.shape[0] == 1 or y_sample.shape[-1] == 1 or y_sample.ndim == 1:\n",
    "            y_sample = to_categorical(y_sample).T\n",
    "        loss = self.mse_loss(predictions, y_sample)\n",
    "\n",
    "        accuracy = self.get_accuracy(predictions, y_sample)\n",
    "        print(f'Accuracy : {accuracy}, Loss : {loss}')\n",
    "        return accuracy, loss\n"
   ]
  },
  {
   "cell_type": "code",
   "execution_count": 8,
   "metadata": {},
   "outputs": [
    {
     "name": "stdout",
     "output_type": "stream",
     "text": [
      "Initialised 2 Layer Neural Network with [192, 250, 10] neurons in each layer\n",
      "Note: When passing the data please pass as (m, n)\n",
      "Where,\n",
      "m=>number of examples\n",
      "n=>feature dimensions\n"
     ]
    }
   ],
   "source": [
    "neural_net = NeuralNetwork([192, 250, 10])"
   ]
  },
  {
   "cell_type": "code",
   "execution_count": 9,
   "metadata": {},
   "outputs": [
    {
     "name": "stdout",
     "output_type": "stream",
     "text": [
      "Received data of shape : (6669, 192), Labels of 10 classes of shape : (10, 6669)\n",
      "Initialized Parameters with the shapes:\n",
      "W1 shape : (250, 192)\n",
      "b1 shape : (250, 1)\n",
      "W2 shape : (10, 250)\n",
      "b2 shape : (10, 1)\n",
      "\n",
      "Batch Size : 32, data is divided into 209 batches\n"
     ]
    },
    {
     "data": {
      "application/vnd.jupyter.widget-view+json": {
       "model_id": "811045ccbd3e4883bc933da950c69bc7",
       "version_major": 2,
       "version_minor": 0
      },
      "text/plain": [
       "HBox(children=(FloatProgress(value=0.0, max=150.0), HTML(value='')))"
      ]
     },
     "metadata": {},
     "output_type": "display_data"
    },
    {
     "name": "stdout",
     "output_type": "stream",
     "text": [
      "\n"
     ]
    }
   ],
   "source": [
    "history = neural_net.fit(X_train, y_train, 0.01, 150, False, 32)"
   ]
  },
  {
   "cell_type": "code",
   "execution_count": 10,
   "metadata": {},
   "outputs": [
    {
     "data": {
      "image/png": "[encoded data removed]",
      "text/plain": [
       "<Figure size 576x576 with 1 Axes>"
      ]
     },
     "metadata": {},
     "output_type": "display_data"
    }
   ],
   "source": [
    "df = pd.DataFrame(history)\n",
    "fig = df.plot(y=['loss', 'acc'], figsize=(8, 8), lw=4, title='Neural Network Loss Vs. Accuracy').get_figure()\n",
    "\n",
    "# fig.savefig('Plots/NeuralNetworkLoss.jpeg', dpi=100, quality=95, bbox_inches = 'tight', pad_inches = 0.25)"
   ]
  },
  {
   "cell_type": "code",
   "execution_count": 11,
   "metadata": {},
   "outputs": [
    {
     "name": "stdout",
     "output_type": "stream",
     "text": [
      "Accuracy : 0.9336734693877551, Loss : 0.11265365017166139\n"
     ]
    },
    {
     "data": {
      "text/plain": [
       "(0.9336734693877551, 0.11265365017166139)"
      ]
     },
     "execution_count": 11,
     "metadata": {},
     "output_type": "execute_result"
    }
   ],
   "source": [
    "neural_net.evaluate(X_test, y_test)"
   ]
  },
  {
   "cell_type": "code",
   "execution_count": 12,
   "metadata": {},
   "outputs": [],
   "source": [
    "test_predictions = neural_net.predict(X_test)"
   ]
  },
  {
   "cell_type": "code",
   "execution_count": 13,
   "metadata": {},
   "outputs": [
    {
     "data": {
      "image/png": "[encoded data removed]",
      "text/plain": [
       "<Figure size 800x800 with 16 Axes>"
      ]
     },
     "metadata": {},
     "output_type": "display_data"
    }
   ],
   "source": [
    "plt.figure(figsize=(8, 8), dpi=100)\n",
    "start_index = 50\n",
    "\n",
    "for i in range(16):\n",
    "    plt.subplot(4, 4, i+1)\n",
    "    plt.grid(False)\n",
    "    plt.xticks([])\n",
    "    plt.yticks([])\n",
    "    \n",
    "    prediction = test_predictions[start_index + i]\n",
    "    true_label = y_test[start_index + i]\n",
    "    col = 'g' if prediction == true_label else 'r'\n",
    "    plt.xlabel(f'Ind:{i} Pred:{prediction} True:{true_label}', color=col)\n",
    "    plt.imshow(np.reshape(X_test[start_index + i], (16, 12)), cmap='gray')\n",
    "\n",
    "plt.tight_layout()\n",
    "# plt.savefig('Plots/NeuralNetworkPredictions.jpeg', dpi=100, quality=95)"
   ]
  },
  {
   "cell_type": "code",
   "execution_count": 14,
   "metadata": {},
   "outputs": [
    {
     "name": "stdout",
     "output_type": "stream",
     "text": [
      "Predicted : 5, TrueLabel : 5\n"
     ]
    },
    {
     "data": {
      "text/plain": [
       "Text(0.5, 0, 'True : 5, NN : 5, Softmax : 3')"
      ]
     },
     "execution_count": 14,
     "metadata": {},
     "output_type": "execute_result"
    },
    {
     "data": {
      "image/png": "[encoded data removed]",
      "text/plain": [
       "<Figure size 600x400 with 1 Axes>"
      ]
     },
     "metadata": {},
     "output_type": "display_data"
    }
   ],
   "source": [
    "index = 65\n",
    "sample_image = X_test[index][..., np.newaxis]\n",
    "prediction, _ = neural_net.forward_propagate(sample_image)\n",
    "true_label = y_test[index]\n",
    "\n",
    "print(f'Predicted : {np.argmax(prediction)}, TrueLabel : {true_label}')\n",
    "\n",
    "plt.figure(figsize=(6, 4), dpi=100)\n",
    "plt.grid(False)\n",
    "plt.xticks([])\n",
    "plt.yticks([])\n",
    "plt.imshow(np.reshape(sample_image, (16, 12)), cmap='gray')\n",
    "plt.xlabel(f'True : {true_label}, NN : {5}, Softmax : {3}')\n",
    "# plt.savefig('Plots/SingleExample.jpeg', dpi=100, quality=95)"
   ]
  },
  {
   "cell_type": "code",
   "execution_count": 15,
   "metadata": {},
   "outputs": [
    {
     "data": {
      "text/plain": [
       "Text(2.0, -0.05, 'True label : 5, Predicted : 5')"
      ]
     },
     "execution_count": 15,
     "metadata": {},
     "output_type": "execute_result"
    },
    {
     "data": {
      "image/png": "[encoded data removed]",
      "text/plain": [
       "<Figure size 800x600 with 1 Axes>"
      ]
     },
     "metadata": {},
     "output_type": "display_data"
    }
   ],
   "source": [
    "plt.figure(figsize=(8, 6), dpi=100)\n",
    "softmaxed_pred = np.exp(prediction)\n",
    "softmaxed_pred = np.squeeze(softmaxed_pred / np.sum(softmaxed_pred))\n",
    "bars = plt.bar(list(range(10)), softmaxed_pred, color='#4682b4')\n",
    "\n",
    "bars[np.argmax(prediction)].set_color('#bb3f3f')\n",
    "\n",
    "plt.title('Model Predictions(Probabilities) - NeuralNet')\n",
    "plt.xlabel('Class')\n",
    "plt.ylabel('Probabilities')\n",
    "plt.text(2.0, -0.05, f'True label : {true_label}, Predicted : {np.argmax(prediction)}', fontsize=12)\n",
    "\n",
    "# plt.savefig('Plots/NeuralNetSinglePrediction.jpeg', dpi=100, quality=95)"
   ]
  },
  {
   "cell_type": "code",
   "execution_count": 16,
   "metadata": {},
   "outputs": [
    {
     "data": {
      "text/plain": [
       "0      0.893087\n",
       "1      0.874441\n",
       "2      0.829348\n",
       "3      0.750593\n",
       "4      0.661170\n",
       "         ...   \n",
       "145    0.071645\n",
       "146    0.071276\n",
       "147    0.070910\n",
       "148    0.070546\n",
       "149    0.070184\n",
       "Name: loss, Length: 150, dtype: float64"
      ]
     },
     "execution_count": 16,
     "metadata": {},
     "output_type": "execute_result"
    }
   ],
   "source": [
    "df['loss']"
   ]
  },
  {
   "cell_type": "code",
   "execution_count": 17,
   "metadata": {},
   "outputs": [
    {
     "data": {
      "text/plain": [
       "0      0.212626\n",
       "1      0.282501\n",
       "2      0.394512\n",
       "3      0.565002\n",
       "4      0.673264\n",
       "         ...   \n",
       "135    0.962213\n",
       "136    0.962363\n",
       "137    0.962363\n",
       "138    0.962813\n",
       "139    0.963113\n",
       "Name: acc, Length: 140, dtype: float64"
      ]
     },
     "execution_count": 17,
     "metadata": {},
     "output_type": "execute_result"
    }
   ],
   "source": [
    "df['acc'][:-10]"
   ]
  },
  {
   "cell_type": "code",
   "execution_count": 14,
   "metadata": {},
   "outputs": [
    {
     "data": {
      "image/png": "[encoded data removed]",
      "text/plain": [
       "<Figure size 432x288 with 1 Axes>"
      ]
     },
     "metadata": {},
     "output_type": "display_data"
    }
   ],
   "source": [
    "digit = np.squeeze(np.where(y_train == 5))[0]\n",
    "image = X_train[digit].reshape((16, 12))\n",
    "\n",
    "plt.imshow(image, cmap='gray')\n",
    "plt.grid(False)"
   ]
  }
 ],
 "metadata": {
  "kernelspec": {
   "display_name": "Python 3",
   "language": "python",
   "name": "python3"
  },
  "language_info": {
   "codemirror_mode": {
    "name": "ipython",
    "version": 3
   },
   "file_extension": ".py",
   "mimetype": "text/x-python",
   "name": "python",
   "nbconvert_exporter": "python",
   "pygments_lexer": "ipython3",
   "version": "3.8.2"
  }
 },
 "nbformat": 4,
 "nbformat_minor": 4
}
