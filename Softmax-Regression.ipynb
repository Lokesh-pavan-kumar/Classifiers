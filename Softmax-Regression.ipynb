{
 "cells": [
  {
   "cell_type": "code",
   "execution_count": 1,
   "metadata": {},
   "outputs": [],
   "source": [
    "import numpy as np\n",
    "import pandas as pd\n",
    "from tqdm.auto import tqdm\n",
    "import matplotlib.pyplot as plt\n",
    "\n",
    "plt.style.use('ggplot')"
   ]
  },
  {
   "cell_type": "code",
   "execution_count": 2,
   "metadata": {},
   "outputs": [],
   "source": [
    "train_df = pd.read_csv('train.csv', header=None)\n",
    "test_df = pd.read_csv('test.csv', header=None)"
   ]
  },
  {
   "cell_type": "code",
   "execution_count": 3,
   "metadata": {},
   "outputs": [],
   "source": [
    "columns = [f'Pixel-{index}' for index in range(1, 193)]\n",
    "columns.append('Class-Label')\n",
    "\n",
    "train_df.columns = columns\n",
    "test_df.columns = columns"
   ]
  },
  {
   "cell_type": "code",
   "execution_count": 4,
   "metadata": {},
   "outputs": [
    {
     "data": {
      "text/html": [
       "<div>\n",
       "<style scoped>\n",
       "    .dataframe tbody tr th:only-of-type {\n",
       "        vertical-align: middle;\n",
       "    }\n",
       "\n",
       "    .dataframe tbody tr th {\n",
       "        vertical-align: top;\n",
       "    }\n",
       "\n",
       "    .dataframe thead th {\n",
       "        text-align: right;\n",
       "    }\n",
       "</style>\n",
       "<table border=\"1\" class=\"dataframe\">\n",
       "  <thead>\n",
       "    <tr style=\"text-align: right;\">\n",
       "      <th></th>\n",
       "      <th>Pixel-1</th>\n",
       "      <th>Pixel-2</th>\n",
       "      <th>Pixel-3</th>\n",
       "      <th>Pixel-4</th>\n",
       "      <th>Pixel-5</th>\n",
       "      <th>Pixel-6</th>\n",
       "      <th>Pixel-7</th>\n",
       "      <th>Pixel-8</th>\n",
       "      <th>Pixel-9</th>\n",
       "      <th>Pixel-10</th>\n",
       "      <th>...</th>\n",
       "      <th>Pixel-184</th>\n",
       "      <th>Pixel-185</th>\n",
       "      <th>Pixel-186</th>\n",
       "      <th>Pixel-187</th>\n",
       "      <th>Pixel-188</th>\n",
       "      <th>Pixel-189</th>\n",
       "      <th>Pixel-190</th>\n",
       "      <th>Pixel-191</th>\n",
       "      <th>Pixel-192</th>\n",
       "      <th>Class-Label</th>\n",
       "    </tr>\n",
       "  </thead>\n",
       "  <tbody>\n",
       "    <tr>\n",
       "      <th>0</th>\n",
       "      <td>0</td>\n",
       "      <td>0</td>\n",
       "      <td>1</td>\n",
       "      <td>1</td>\n",
       "      <td>0</td>\n",
       "      <td>0</td>\n",
       "      <td>0</td>\n",
       "      <td>0</td>\n",
       "      <td>0</td>\n",
       "      <td>0</td>\n",
       "      <td>...</td>\n",
       "      <td>0</td>\n",
       "      <td>2</td>\n",
       "      <td>2</td>\n",
       "      <td>0</td>\n",
       "      <td>0</td>\n",
       "      <td>0</td>\n",
       "      <td>0</td>\n",
       "      <td>0</td>\n",
       "      <td>0</td>\n",
       "      <td>6</td>\n",
       "    </tr>\n",
       "    <tr>\n",
       "      <th>1</th>\n",
       "      <td>0</td>\n",
       "      <td>0</td>\n",
       "      <td>0</td>\n",
       "      <td>0</td>\n",
       "      <td>0</td>\n",
       "      <td>0</td>\n",
       "      <td>0</td>\n",
       "      <td>0</td>\n",
       "      <td>0</td>\n",
       "      <td>0</td>\n",
       "      <td>...</td>\n",
       "      <td>4</td>\n",
       "      <td>3</td>\n",
       "      <td>0</td>\n",
       "      <td>0</td>\n",
       "      <td>0</td>\n",
       "      <td>0</td>\n",
       "      <td>0</td>\n",
       "      <td>0</td>\n",
       "      <td>0</td>\n",
       "      <td>4</td>\n",
       "    </tr>\n",
       "    <tr>\n",
       "      <th>2</th>\n",
       "      <td>0</td>\n",
       "      <td>0</td>\n",
       "      <td>0</td>\n",
       "      <td>0</td>\n",
       "      <td>0</td>\n",
       "      <td>2</td>\n",
       "      <td>2</td>\n",
       "      <td>0</td>\n",
       "      <td>0</td>\n",
       "      <td>0</td>\n",
       "      <td>...</td>\n",
       "      <td>0</td>\n",
       "      <td>4</td>\n",
       "      <td>2</td>\n",
       "      <td>0</td>\n",
       "      <td>0</td>\n",
       "      <td>0</td>\n",
       "      <td>0</td>\n",
       "      <td>0</td>\n",
       "      <td>0</td>\n",
       "      <td>9</td>\n",
       "    </tr>\n",
       "    <tr>\n",
       "      <th>3</th>\n",
       "      <td>0</td>\n",
       "      <td>0</td>\n",
       "      <td>0</td>\n",
       "      <td>0</td>\n",
       "      <td>2</td>\n",
       "      <td>4</td>\n",
       "      <td>2</td>\n",
       "      <td>0</td>\n",
       "      <td>0</td>\n",
       "      <td>0</td>\n",
       "      <td>...</td>\n",
       "      <td>0</td>\n",
       "      <td>0</td>\n",
       "      <td>0</td>\n",
       "      <td>0</td>\n",
       "      <td>2</td>\n",
       "      <td>0</td>\n",
       "      <td>0</td>\n",
       "      <td>0</td>\n",
       "      <td>0</td>\n",
       "      <td>8</td>\n",
       "    </tr>\n",
       "    <tr>\n",
       "      <th>4</th>\n",
       "      <td>0</td>\n",
       "      <td>0</td>\n",
       "      <td>0</td>\n",
       "      <td>1</td>\n",
       "      <td>4</td>\n",
       "      <td>4</td>\n",
       "      <td>1</td>\n",
       "      <td>0</td>\n",
       "      <td>0</td>\n",
       "      <td>0</td>\n",
       "      <td>...</td>\n",
       "      <td>2</td>\n",
       "      <td>2</td>\n",
       "      <td>2</td>\n",
       "      <td>0</td>\n",
       "      <td>0</td>\n",
       "      <td>0</td>\n",
       "      <td>0</td>\n",
       "      <td>0</td>\n",
       "      <td>0</td>\n",
       "      <td>8</td>\n",
       "    </tr>\n",
       "  </tbody>\n",
       "</table>\n",
       "<p>5 rows × 193 columns</p>\n",
       "</div>"
      ],
      "text/plain": [
       "   Pixel-1  Pixel-2  Pixel-3  Pixel-4  Pixel-5  Pixel-6  Pixel-7  Pixel-8  \\\n",
       "0        0        0        1        1        0        0        0        0   \n",
       "1        0        0        0        0        0        0        0        0   \n",
       "2        0        0        0        0        0        2        2        0   \n",
       "3        0        0        0        0        2        4        2        0   \n",
       "4        0        0        0        1        4        4        1        0   \n",
       "\n",
       "   Pixel-9  Pixel-10  ...  Pixel-184  Pixel-185  Pixel-186  Pixel-187  \\\n",
       "0        0         0  ...          0          2          2          0   \n",
       "1        0         0  ...          4          3          0          0   \n",
       "2        0         0  ...          0          4          2          0   \n",
       "3        0         0  ...          0          0          0          0   \n",
       "4        0         0  ...          2          2          2          0   \n",
       "\n",
       "   Pixel-188  Pixel-189  Pixel-190  Pixel-191  Pixel-192  Class-Label  \n",
       "0          0          0          0          0          0            6  \n",
       "1          0          0          0          0          0            4  \n",
       "2          0          0          0          0          0            9  \n",
       "3          2          0          0          0          0            8  \n",
       "4          0          0          0          0          0            8  \n",
       "\n",
       "[5 rows x 193 columns]"
      ]
     },
     "execution_count": 4,
     "metadata": {},
     "output_type": "execute_result"
    }
   ],
   "source": [
    "train_df.head()"
   ]
  },
  {
   "cell_type": "code",
   "execution_count": 5,
   "metadata": {},
   "outputs": [
    {
     "data": {
      "text/html": [
       "<div>\n",
       "<style scoped>\n",
       "    .dataframe tbody tr th:only-of-type {\n",
       "        vertical-align: middle;\n",
       "    }\n",
       "\n",
       "    .dataframe tbody tr th {\n",
       "        vertical-align: top;\n",
       "    }\n",
       "\n",
       "    .dataframe thead th {\n",
       "        text-align: right;\n",
       "    }\n",
       "</style>\n",
       "<table border=\"1\" class=\"dataframe\">\n",
       "  <thead>\n",
       "    <tr style=\"text-align: right;\">\n",
       "      <th></th>\n",
       "      <th>Pixel-1</th>\n",
       "      <th>Pixel-2</th>\n",
       "      <th>Pixel-3</th>\n",
       "      <th>Pixel-4</th>\n",
       "      <th>Pixel-5</th>\n",
       "      <th>Pixel-6</th>\n",
       "      <th>Pixel-7</th>\n",
       "      <th>Pixel-8</th>\n",
       "      <th>Pixel-9</th>\n",
       "      <th>Pixel-10</th>\n",
       "      <th>...</th>\n",
       "      <th>Pixel-184</th>\n",
       "      <th>Pixel-185</th>\n",
       "      <th>Pixel-186</th>\n",
       "      <th>Pixel-187</th>\n",
       "      <th>Pixel-188</th>\n",
       "      <th>Pixel-189</th>\n",
       "      <th>Pixel-190</th>\n",
       "      <th>Pixel-191</th>\n",
       "      <th>Pixel-192</th>\n",
       "      <th>Class-Label</th>\n",
       "    </tr>\n",
       "  </thead>\n",
       "  <tbody>\n",
       "    <tr>\n",
       "      <th>0</th>\n",
       "      <td>0</td>\n",
       "      <td>0</td>\n",
       "      <td>0</td>\n",
       "      <td>0</td>\n",
       "      <td>0</td>\n",
       "      <td>2</td>\n",
       "      <td>2</td>\n",
       "      <td>0</td>\n",
       "      <td>0</td>\n",
       "      <td>0</td>\n",
       "      <td>...</td>\n",
       "      <td>0</td>\n",
       "      <td>0</td>\n",
       "      <td>0</td>\n",
       "      <td>4</td>\n",
       "      <td>0</td>\n",
       "      <td>0</td>\n",
       "      <td>0</td>\n",
       "      <td>0</td>\n",
       "      <td>0</td>\n",
       "      <td>9</td>\n",
       "    </tr>\n",
       "    <tr>\n",
       "      <th>1</th>\n",
       "      <td>0</td>\n",
       "      <td>0</td>\n",
       "      <td>1</td>\n",
       "      <td>4</td>\n",
       "      <td>4</td>\n",
       "      <td>4</td>\n",
       "      <td>4</td>\n",
       "      <td>0</td>\n",
       "      <td>0</td>\n",
       "      <td>0</td>\n",
       "      <td>...</td>\n",
       "      <td>2</td>\n",
       "      <td>1</td>\n",
       "      <td>0</td>\n",
       "      <td>0</td>\n",
       "      <td>0</td>\n",
       "      <td>0</td>\n",
       "      <td>0</td>\n",
       "      <td>0</td>\n",
       "      <td>0</td>\n",
       "      <td>2</td>\n",
       "    </tr>\n",
       "    <tr>\n",
       "      <th>2</th>\n",
       "      <td>0</td>\n",
       "      <td>0</td>\n",
       "      <td>0</td>\n",
       "      <td>0</td>\n",
       "      <td>0</td>\n",
       "      <td>1</td>\n",
       "      <td>2</td>\n",
       "      <td>0</td>\n",
       "      <td>0</td>\n",
       "      <td>0</td>\n",
       "      <td>...</td>\n",
       "      <td>0</td>\n",
       "      <td>0</td>\n",
       "      <td>4</td>\n",
       "      <td>0</td>\n",
       "      <td>0</td>\n",
       "      <td>0</td>\n",
       "      <td>0</td>\n",
       "      <td>0</td>\n",
       "      <td>0</td>\n",
       "      <td>9</td>\n",
       "    </tr>\n",
       "    <tr>\n",
       "      <th>3</th>\n",
       "      <td>0</td>\n",
       "      <td>0</td>\n",
       "      <td>0</td>\n",
       "      <td>0</td>\n",
       "      <td>4</td>\n",
       "      <td>4</td>\n",
       "      <td>4</td>\n",
       "      <td>4</td>\n",
       "      <td>0</td>\n",
       "      <td>0</td>\n",
       "      <td>...</td>\n",
       "      <td>0</td>\n",
       "      <td>0</td>\n",
       "      <td>0</td>\n",
       "      <td>4</td>\n",
       "      <td>0</td>\n",
       "      <td>0</td>\n",
       "      <td>0</td>\n",
       "      <td>0</td>\n",
       "      <td>0</td>\n",
       "      <td>7</td>\n",
       "    </tr>\n",
       "    <tr>\n",
       "      <th>4</th>\n",
       "      <td>0</td>\n",
       "      <td>0</td>\n",
       "      <td>0</td>\n",
       "      <td>3</td>\n",
       "      <td>2</td>\n",
       "      <td>0</td>\n",
       "      <td>0</td>\n",
       "      <td>3</td>\n",
       "      <td>2</td>\n",
       "      <td>0</td>\n",
       "      <td>...</td>\n",
       "      <td>0</td>\n",
       "      <td>4</td>\n",
       "      <td>0</td>\n",
       "      <td>0</td>\n",
       "      <td>0</td>\n",
       "      <td>0</td>\n",
       "      <td>0</td>\n",
       "      <td>0</td>\n",
       "      <td>0</td>\n",
       "      <td>4</td>\n",
       "    </tr>\n",
       "  </tbody>\n",
       "</table>\n",
       "<p>5 rows × 193 columns</p>\n",
       "</div>"
      ],
      "text/plain": [
       "   Pixel-1  Pixel-2  Pixel-3  Pixel-4  Pixel-5  Pixel-6  Pixel-7  Pixel-8  \\\n",
       "0        0        0        0        0        0        2        2        0   \n",
       "1        0        0        1        4        4        4        4        0   \n",
       "2        0        0        0        0        0        1        2        0   \n",
       "3        0        0        0        0        4        4        4        4   \n",
       "4        0        0        0        3        2        0        0        3   \n",
       "\n",
       "   Pixel-9  Pixel-10  ...  Pixel-184  Pixel-185  Pixel-186  Pixel-187  \\\n",
       "0        0         0  ...          0          0          0          4   \n",
       "1        0         0  ...          2          1          0          0   \n",
       "2        0         0  ...          0          0          4          0   \n",
       "3        0         0  ...          0          0          0          4   \n",
       "4        2         0  ...          0          4          0          0   \n",
       "\n",
       "   Pixel-188  Pixel-189  Pixel-190  Pixel-191  Pixel-192  Class-Label  \n",
       "0          0          0          0          0          0            9  \n",
       "1          0          0          0          0          0            2  \n",
       "2          0          0          0          0          0            9  \n",
       "3          0          0          0          0          0            7  \n",
       "4          0          0          0          0          0            4  \n",
       "\n",
       "[5 rows x 193 columns]"
      ]
     },
     "execution_count": 5,
     "metadata": {},
     "output_type": "execute_result"
    }
   ],
   "source": [
    "test_df.head()"
   ]
  },
  {
   "cell_type": "code",
   "execution_count": 6,
   "metadata": {},
   "outputs": [
    {
     "name": "stdout",
     "output_type": "stream",
     "text": [
      "Shape of the train data : (6669, 192)\n",
      "Shape of train labels : (6669,)\n",
      "Shape of the test data : (3332, 192)\n",
      "Shape of test labels : (3332,)\n"
     ]
    }
   ],
   "source": [
    "X_train, y_train = train_df.iloc[:, :-1].values, train_df.iloc[:, -1].values\n",
    "X_test, y_test = test_df.iloc[:, :-1].values, test_df.iloc[:, -1].values\n",
    "\n",
    "print(f'Shape of the train data : {X_train.shape}\\nShape of train labels : {y_train.shape}')\n",
    "print(f'Shape of the test data : {X_test.shape}\\nShape of test labels : {y_test.shape}')"
   ]
  },
  {
   "cell_type": "markdown",
   "metadata": {},
   "source": [
    "# Softmax Regression\n",
    "\n",
    "## Instead of training K One-Vs-All logistic regression classifiers, we do the same implicitly.\n",
    "\n",
    "### This can be achieved because the weight vector(array in this case) can be thought of using K vectors that are each weights trained from One-Vs-All logistic regression classification\n",
    "\n",
    "#### So in a general logistic regression the weight vector is of shape : `(n, 1)` or simply `(n, )`\n",
    "#### But incase of softmax regression the weight vector(array in this case) is of shape : `(n, k)` k=> number of classes"
   ]
  },
  {
   "cell_type": "code",
   "execution_count": 7,
   "metadata": {},
   "outputs": [],
   "source": [
    "from keras.utils import to_categorical\n",
    "\n",
    "\n",
    "def softmax(array: np.ndarray):\n",
    "    softmax_out = np.exp(array)\n",
    "    softmax_out = softmax_out / np.sum(softmax_out, axis=1, keepdims=True)\n",
    "    assert np.allclose(np.sum(softmax_out), array.shape[0])\n",
    "    return softmax_out\n",
    "\n",
    "\n",
    "\n",
    "class SoftmaxRegression:\n",
    "    def __init__(self):\n",
    "        self.X = None  # Feature vectors [shape = (m, n)]\n",
    "        self.y = None  # Class labels [shape = (m, 1) => (m, k)]\n",
    "        self.W = None  # Weights [shape = (n, k)]\n",
    "        self.biases = None  # Biases [shape = (k, 1)]\n",
    "        self.lr = None  # Learning rate\n",
    "        self.m = None\n",
    "        self.n = None\n",
    "        self.epochs = None\n",
    "        print('Softmax Regression initialized')\n",
    "\n",
    "    def fit(self, X: np.ndarray, y: np.ndarray, epochs: int = 50,\n",
    "            use_bias: bool = True, lr: float = 0.02, verbose: bool = True):\n",
    "        self.X = X\n",
    "        (self.m, self.n) = X.shape  # Getting the dimensions X\n",
    "        assert y.shape == (self.m, 1) or y.shape == (1, self.m) or y.shape == (self.m,)\n",
    "        self.y = to_categorical(y)  # Converting labels to one-hot vectors / categorical vectors\n",
    "        num_classes = np.unique(y).size  # Inferring the number of classes\n",
    "        assert self.y.shape == (self.m, num_classes)\n",
    "        self.W = np.random.randn(self.n, num_classes) * 0.01  # Initialising weights\n",
    "        if use_bias:  # If configured to use bias\n",
    "            self.biases = np.zeros((1, num_classes))  # Initialising biases\n",
    "            print('Using Biases')\n",
    "        self.epochs = epochs\n",
    "        self.lr = lr\n",
    "        return self.minimize(verbose)  # Gradient Descent to optimize for loss\n",
    "\n",
    "    def minimize(self, verbose: bool):\n",
    "        loss_hist = []\n",
    "        accuracy_hist = []\n",
    "        for num_epoch in tqdm(range(self.epochs)):  \n",
    "            # Logits sure is an overloaded term but it seemed to fit best here\n",
    "            logits = np.dot(self.X, self.W)  # Z = X · W\n",
    "            if self.biases is not None:  # If configured to use biases\n",
    "                logits = logits + self.biases  # Adding the biases to the logits\n",
    "            predictions = softmax(logits)  # Softmax activation on the logits\n",
    "            assert predictions.shape == self.y.shape\n",
    "            # CrossEntropyLoss = (-1/m) * (y * log(predictions))\n",
    "            loss = (-1 / self.m) * np.sum(self.y * np.log(predictions))\n",
    "            # Gradient of `W` wrt the cost function\n",
    "            grad_W = np.dot(self.X.T, (predictions - self.y)) / self.m\n",
    "            if self.biases is not None:\n",
    "                grad_b = np.sum((predictions - self.y), axis=0, keepdims=True) / self.m  # Gradient of biases\n",
    "                assert self.biases.shape == grad_b.shape\n",
    "                self.biases = self.biases - (self.lr) * grad_b  # Updating the biases\n",
    "            assert self.W.shape == grad_W.shape\n",
    "            self.W = self.W - (self.lr) * grad_W  # Updating the weights\n",
    "            accuracy = self.get_accuracy(predictions, self.y)  # Computing the accuracy\n",
    "            if verbose:  # If verbose is set tot True\n",
    "                print(f'Epoch : {num_epoch+1}/{self.epochs}\\tAccuracy : {accuracy}\\tLoss Values : {loss:.4f}')\n",
    "            loss_hist.append(loss)\n",
    "            accuracy_hist.append(accuracy)\n",
    "        return dict(loss=loss_hist, acc=accuracy_hist)\n",
    "            \n",
    "    def predict(self, X: np.ndarray):\n",
    "        logits = np.dot(X, self.W)\n",
    "        if self.biases is not None:\n",
    "            logits = logits + self.biases\n",
    "        return softmax(logits)\n",
    "    \n",
    "    def get_accuracy(self, predictions: np.ndarray, y_sample: np.ndarray):\n",
    "        flattened_labels = np.argmax(y_sample, axis=1)\n",
    "        flattened_predictions = np.argmax(predictions, axis=1)\n",
    "        assert flattened_labels.shape == flattened_predictions.shape\n",
    "        return np.mean(flattened_labels == flattened_predictions)\n",
    "    \n",
    "    def evaluate(self, X_sample: np.ndarray, y_sample:np.ndarray):\n",
    "        predictions = self.predict(X_sample)\n",
    "        y_sample = to_categorical(y_sample)\n",
    "        loss = (-1 / self.m) * np.sum(y_sample * np.log(predictions))\n",
    "        accuracy = self.get_accuracy(predictions, y_sample)\n",
    "        return accuracy, loss"
   ]
  },
  {
   "cell_type": "code",
   "execution_count": 8,
   "metadata": {},
   "outputs": [
    {
     "name": "stdout",
     "output_type": "stream",
     "text": [
      "Softmax Regression initialized\n",
      "Using Biases\n"
     ]
    },
    {
     "data": {
      "application/vnd.jupyter.widget-view+json": {
       "model_id": "f0c9025e710e41e2a64f1594ffa21b7a",
       "version_major": 2,
       "version_minor": 0
      },
      "text/plain": [
       "HBox(children=(FloatProgress(value=0.0, max=150.0), HTML(value='')))"
      ]
     },
     "metadata": {},
     "output_type": "display_data"
    },
    {
     "name": "stdout",
     "output_type": "stream",
     "text": [
      "\n"
     ]
    }
   ],
   "source": [
    "softmax_regression = SoftmaxRegression()\n",
    "history = softmax_regression.fit(X_train, y_train, 150, True, 0.1, False)"
   ]
  },
  {
   "cell_type": "code",
   "execution_count": 9,
   "metadata": {},
   "outputs": [
    {
     "data": {
      "image/png": "[encoded data removed]",
      "text/plain": [
       "<Figure size 576x576 with 1 Axes>"
      ]
     },
     "metadata": {},
     "output_type": "display_data"
    }
   ],
   "source": [
    "df = pd.DataFrame(history)\n",
    "fig = df.plot(y=['loss', 'acc'], figsize=(8, 8), lw=4, title='Softmax Regression Loss Vs. Accuracy').get_figure()\n",
    "\n",
    "# fig.savefig('Plots/SoftmaxRegressionLoss.jpeg', dpi=100, quality=95, bbox_inches = 'tight', pad_inches = 0.25)"
   ]
  },
  {
   "cell_type": "code",
   "execution_count": 10,
   "metadata": {},
   "outputs": [
    {
     "data": {
      "text/plain": [
       "(0.9018607442977191, 0.17874681733329342)"
      ]
     },
     "execution_count": 10,
     "metadata": {},
     "output_type": "execute_result"
    }
   ],
   "source": [
    "softmax_regression.evaluate(X_test, y_test)"
   ]
  },
  {
   "cell_type": "code",
   "execution_count": 11,
   "metadata": {},
   "outputs": [],
   "source": [
    "test_predictions = softmax_regression.predict(X_test)\n",
    "test_predictions = np.argmax(test_predictions, axis=1)"
   ]
  },
  {
   "cell_type": "code",
   "execution_count": 12,
   "metadata": {},
   "outputs": [
    {
     "data": {
      "text/plain": [
       "(3332,)"
      ]
     },
     "execution_count": 12,
     "metadata": {},
     "output_type": "execute_result"
    }
   ],
   "source": [
    "test_predictions.shape"
   ]
  },
  {
   "cell_type": "code",
   "execution_count": 13,
   "metadata": {},
   "outputs": [
    {
     "data": {
      "image/png": "[encoded data removed]",
      "text/plain": [
       "<Figure size 800x800 with 16 Axes>"
      ]
     },
     "metadata": {},
     "output_type": "display_data"
    }
   ],
   "source": [
    "plt.figure(figsize=(8, 8), dpi=100)\n",
    "start_index = 50\n",
    "\n",
    "for i in range(16):\n",
    "    plt.subplot(4, 4, i+1)\n",
    "    plt.grid(False)\n",
    "    plt.xticks([])\n",
    "    plt.yticks([])\n",
    "    \n",
    "    prediction = test_predictions[start_index + i]\n",
    "    true_label = y_test[start_index + i]\n",
    "    col = 'g' if prediction == true_label else 'r'\n",
    "    plt.xlabel(f'Ind:{i} Pred:{prediction} True:{true_label}', color=col)\n",
    "    plt.imshow(np.reshape(X_test[start_index + i], (16, 12)), cmap='gray')\n",
    "\n",
    "plt.tight_layout()\n",
    "# plt.savefig('Plots/SoftmaxRegressionPredictions.jpeg', dpi=100, quality=95)"
   ]
  },
  {
   "cell_type": "code",
   "execution_count": 14,
   "metadata": {},
   "outputs": [
    {
     "name": "stdout",
     "output_type": "stream",
     "text": [
      "Predicted : 3, TrueLabel : 5\n"
     ]
    },
    {
     "data": {
      "text/plain": [
       "<matplotlib.image.AxesImage at 0x25f4d329850>"
      ]
     },
     "execution_count": 14,
     "metadata": {},
     "output_type": "execute_result"
    },
    {
     "data": {
      "image/png": "[encoded data removed]",
      "text/plain": [
       "<Figure size 600x400 with 1 Axes>"
      ]
     },
     "metadata": {},
     "output_type": "display_data"
    }
   ],
   "source": [
    "index = 65\n",
    "sample_image = X_test[index][..., np.newaxis].T\n",
    "prediction = softmax_regression.predict(sample_image)\n",
    "true_label = y_test[index]\n",
    "\n",
    "print(f'Predicted : {np.argmax(prediction)}, TrueLabel : {true_label}')\n",
    "\n",
    "plt.figure(figsize=(6, 4), dpi=100)\n",
    "plt.grid(False)\n",
    "plt.xticks([])\n",
    "plt.yticks([])\n",
    "plt.imshow(np.reshape(sample_image, (16, 12)), cmap='gray')"
   ]
  },
  {
   "cell_type": "code",
   "execution_count": 15,
   "metadata": {},
   "outputs": [
    {
     "data": {
      "text/plain": [
       "Text(1.8, -0.2, 'True label : 5, Predicted : 3')"
      ]
     },
     "execution_count": 15,
     "metadata": {},
     "output_type": "execute_result"
    },
    {
     "data": {
      "image/png": "[encoded data removed]",
      "text/plain": [
       "<Figure size 800x600 with 1 Axes>"
      ]
     },
     "metadata": {},
     "output_type": "display_data"
    }
   ],
   "source": [
    "plt.figure(figsize=(8, 6), dpi=100)\n",
    "bars = plt.bar(list(range(10)), np.squeeze(prediction), color='#4682b4')\n",
    "\n",
    "bars[np.argmax(prediction)].set_color('#bb3f3f')\n",
    "\n",
    "plt.title('Model Predictions(Probabilities) - Softmax')\n",
    "plt.xlabel('Class')\n",
    "plt.ylabel('Probabilities')\n",
    "plt.text(1.8, -0.2, f'True label : {true_label}, Predicted : {np.argmax(prediction)}', fontsize=12)\n",
    "\n",
    "# plt.savefig('Plots/SoftmaxSinglePrediction.jpeg', dpi=100, quality=95)"
   ]
  },
  {
   "cell_type": "code",
   "execution_count": 16,
   "metadata": {},
   "outputs": [
    {
     "data": {
      "text/plain": [
       "0      2.308969\n",
       "1      1.838934\n",
       "2      1.579710\n",
       "3      1.532744\n",
       "4      1.633748\n",
       "         ...   \n",
       "145    0.322808\n",
       "146    0.322291\n",
       "147    0.321780\n",
       "148    0.321273\n",
       "149    0.320771\n",
       "Name: loss, Length: 150, dtype: float64"
      ]
     },
     "execution_count": 16,
     "metadata": {},
     "output_type": "execute_result"
    }
   ],
   "source": [
    "df['loss']"
   ]
  },
  {
   "cell_type": "code",
   "execution_count": 18,
   "metadata": {},
   "outputs": [
    {
     "data": {
      "text/plain": [
       "0      0.079022\n",
       "1      0.417754\n",
       "2      0.599040\n",
       "3      0.485680\n",
       "4      0.625281\n",
       "         ...   \n",
       "145    0.914380\n",
       "146    0.914380\n",
       "147    0.914680\n",
       "148    0.914830\n",
       "149    0.915130\n",
       "Name: acc, Length: 150, dtype: float64"
      ]
     },
     "execution_count": 18,
     "metadata": {},
     "output_type": "execute_result"
    }
   ],
   "source": [
    "df['acc']"
   ]
  }
 ],
 "metadata": {
  "kernelspec": {
   "display_name": "Python 3",
   "language": "python",
   "name": "python3"
  },
  "language_info": {
   "codemirror_mode": {
    "name": "ipython",
    "version": 3
   },
   "file_extension": ".py",
   "mimetype": "text/x-python",
   "name": "python",
   "nbconvert_exporter": "python",
   "pygments_lexer": "ipython3",
   "version": "3.8.2"
  }
 },
 "nbformat": 4,
 "nbformat_minor": 4
}
